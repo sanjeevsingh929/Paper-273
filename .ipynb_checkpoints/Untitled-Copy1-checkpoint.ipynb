{
 "cells": [
  {
   "cell_type": "code",
   "execution_count": 1,
   "id": "68695b80",
   "metadata": {},
   "outputs": [],
   "source": [
    "import gensim\n",
    "import numpy as np\n",
    "import pandas as pd\n",
    "from sklearn.model_selection import train_test_split"
   ]
  },
  {
   "cell_type": "code",
   "execution_count": null,
   "id": "1ce85bc3",
   "metadata": {},
   "outputs": [],
   "source": []
  },
  {
   "cell_type": "code",
   "execution_count": 2,
   "id": "24c47e57",
   "metadata": {},
   "outputs": [],
   "source": [
    "# STEP 1: load Note datasets\n",
    "df_notes = pd.read_csv('data/filtered.csv')"
   ]
  },
  {
   "cell_type": "code",
   "execution_count": 3,
   "id": "5707830c",
   "metadata": {},
   "outputs": [
    {
     "data": {
      "text/html": [
       "<div>\n",
       "<style scoped>\n",
       "    .dataframe tbody tr th:only-of-type {\n",
       "        vertical-align: middle;\n",
       "    }\n",
       "\n",
       "    .dataframe tbody tr th {\n",
       "        vertical-align: top;\n",
       "    }\n",
       "\n",
       "    .dataframe thead th {\n",
       "        text-align: right;\n",
       "    }\n",
       "</style>\n",
       "<table border=\"1\" class=\"dataframe\">\n",
       "  <thead>\n",
       "    <tr style=\"text-align: right;\">\n",
       "      <th></th>\n",
       "      <th>subject_id</th>\n",
       "      <th>hadm_id</th>\n",
       "      <th>icustay_id</th>\n",
       "      <th>expire_flag</th>\n",
       "      <th>text</th>\n",
       "    </tr>\n",
       "  </thead>\n",
       "  <tbody>\n",
       "    <tr>\n",
       "      <th>0</th>\n",
       "      <td>291</td>\n",
       "      <td>125726</td>\n",
       "      <td>275109</td>\n",
       "      <td>0</td>\n",
       "      <td>Briefly this is a 72 year old woman with prior...</td>\n",
       "    </tr>\n",
       "    <tr>\n",
       "      <th>1</th>\n",
       "      <td>291</td>\n",
       "      <td>125726</td>\n",
       "      <td>275109</td>\n",
       "      <td>0</td>\n",
       "      <td>Briefly this is a 72 year old woman with prior...</td>\n",
       "    </tr>\n",
       "    <tr>\n",
       "      <th>2</th>\n",
       "      <td>422</td>\n",
       "      <td>117029</td>\n",
       "      <td>299666</td>\n",
       "      <td>0</td>\n",
       "      <td>Pt is a 57 y/p male with h/o afib, LE edema, w...</td>\n",
       "    </tr>\n",
       "    <tr>\n",
       "      <th>3</th>\n",
       "      <td>671</td>\n",
       "      <td>126769</td>\n",
       "      <td>246119</td>\n",
       "      <td>0</td>\n",
       "      <td>Pt admitted from ED at 0530, upon which he was...</td>\n",
       "    </tr>\n",
       "    <tr>\n",
       "      <th>4</th>\n",
       "      <td>698</td>\n",
       "      <td>171990</td>\n",
       "      <td>229997</td>\n",
       "      <td>0</td>\n",
       "      <td>89 year old patient admitted from the EW with ...</td>\n",
       "    </tr>\n",
       "  </tbody>\n",
       "</table>\n",
       "</div>"
      ],
      "text/plain": [
       "   subject_id  hadm_id  icustay_id  expire_flag  \\\n",
       "0         291   125726      275109            0   \n",
       "1         291   125726      275109            0   \n",
       "2         422   117029      299666            0   \n",
       "3         671   126769      246119            0   \n",
       "4         698   171990      229997            0   \n",
       "\n",
       "                                                text  \n",
       "0  Briefly this is a 72 year old woman with prior...  \n",
       "1  Briefly this is a 72 year old woman with prior...  \n",
       "2  Pt is a 57 y/p male with h/o afib, LE edema, w...  \n",
       "3  Pt admitted from ED at 0530, upon which he was...  \n",
       "4  89 year old patient admitted from the EW with ...  "
      ]
     },
     "execution_count": 3,
     "metadata": {},
     "output_type": "execute_result"
    }
   ],
   "source": [
    "df_notes.head()"
   ]
  },
  {
   "cell_type": "code",
   "execution_count": 4,
   "id": "3c96718c",
   "metadata": {},
   "outputs": [
    {
     "ename": "NameError",
     "evalue": "name 'expire_flag' is not defined",
     "output_type": "error",
     "traceback": [
      "\u001b[1;31m---------------------------------------------------------------------------\u001b[0m",
      "\u001b[1;31mNameError\u001b[0m                                 Traceback (most recent call last)",
      "\u001b[1;32m~\\AppData\\Local\\Temp/ipykernel_269968/3250557507.py\u001b[0m in \u001b[0;36m<module>\u001b[1;34m\u001b[0m\n\u001b[1;32m----> 1\u001b[1;33m \u001b[0mmessages\u001b[0m\u001b[1;33m=\u001b[0m\u001b[0mdf_notes\u001b[0m\u001b[1;33m[\u001b[0m\u001b[1;33m:\u001b[0m\u001b[1;33m,\u001b[0m\u001b[0mexpire_flag\u001b[0m\u001b[1;33m:\u001b[0m\u001b[0mtext\u001b[0m\u001b[1;33m]\u001b[0m\u001b[1;33m\u001b[0m\u001b[1;33m\u001b[0m\u001b[0m\n\u001b[0m",
      "\u001b[1;31mNameError\u001b[0m: name 'expire_flag' is not defined"
     ]
    }
   ],
   "source": [
    "messages=df_notes[:,expire_flag:text]"
   ]
  },
  {
   "cell_type": "code",
   "execution_count": null,
   "id": "d94406d9",
   "metadata": {},
   "outputs": [],
   "source": []
  }
 ],
 "metadata": {
  "kernelspec": {
   "display_name": "Python 3",
   "language": "python",
   "name": "python3"
  },
  "language_info": {
   "codemirror_mode": {
    "name": "ipython",
    "version": 3
   },
   "file_extension": ".py",
   "mimetype": "text/x-python",
   "name": "python",
   "nbconvert_exporter": "python",
   "pygments_lexer": "ipython3",
   "version": "3.7.3"
  }
 },
 "nbformat": 4,
 "nbformat_minor": 5
}
